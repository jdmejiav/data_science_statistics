{
 "cells": [
  {
   "cell_type": "markdown",
   "id": "cfd0070c",
   "metadata": {},
   "source": [
    "## Punto 7"
   ]
  },
  {
   "cell_type": "code",
   "execution_count": 15,
   "id": "ff549f57-8cca-4ac1-a535-1ea43eb22299",
   "metadata": {},
   "outputs": [
    {
     "name": "stdout",
     "output_type": "stream",
     "text": [
      "Collecting matplotlib\n",
      "  Downloading matplotlib-3.8.1-cp310-cp310-win_amd64.whl.metadata (5.9 kB)\n",
      "Collecting contourpy>=1.0.1 (from matplotlib)\n",
      "  Downloading contourpy-1.2.0-cp310-cp310-win_amd64.whl.metadata (5.8 kB)\n",
      "Collecting cycler>=0.10 (from matplotlib)\n",
      "  Downloading cycler-0.12.1-py3-none-any.whl.metadata (3.8 kB)\n",
      "Collecting fonttools>=4.22.0 (from matplotlib)\n",
      "  Downloading fonttools-4.44.0-cp310-cp310-win_amd64.whl.metadata (156 kB)\n",
      "     ---------------------------------------- 0.0/156.8 kB ? eta -:--:--\n",
      "     --------------------------- ---------- 112.6/156.8 kB 2.2 MB/s eta 0:00:01\n",
      "     -------------------------------------- 156.8/156.8 kB 2.3 MB/s eta 0:00:00\n",
      "Collecting kiwisolver>=1.3.1 (from matplotlib)\n",
      "  Downloading kiwisolver-1.4.5-cp310-cp310-win_amd64.whl.metadata (6.5 kB)\n",
      "Requirement already satisfied: numpy<2,>=1.21 in c:\\python310\\lib\\site-packages (from matplotlib) (1.21.5)\n",
      "Requirement already satisfied: packaging>=20.0 in c:\\python310\\lib\\site-packages (from matplotlib) (23.2)\n",
      "Collecting pillow>=8 (from matplotlib)\n",
      "  Downloading Pillow-10.1.0-cp310-cp310-win_amd64.whl.metadata (9.6 kB)\n",
      "Collecting pyparsing>=2.3.1 (from matplotlib)\n",
      "  Downloading pyparsing-3.1.1-py3-none-any.whl.metadata (5.1 kB)\n",
      "Requirement already satisfied: python-dateutil>=2.7 in c:\\python310\\lib\\site-packages (from matplotlib) (2.8.2)\n",
      "Requirement already satisfied: six>=1.5 in c:\\python310\\lib\\site-packages (from python-dateutil>=2.7->matplotlib) (1.16.0)\n",
      "Downloading matplotlib-3.8.1-cp310-cp310-win_amd64.whl (7.6 MB)\n",
      "   ---------------------------------------- 0.0/7.6 MB ? eta -:--:--\n",
      "   -- ------------------------------------- 0.4/7.6 MB 8.9 MB/s eta 0:00:01\n",
      "   ------ --------------------------------- 1.2/7.6 MB 12.6 MB/s eta 0:00:01\n",
      "   --------- ------------------------------ 1.9/7.6 MB 13.2 MB/s eta 0:00:01\n",
      "   ------------------------- -------------- 4.8/7.6 MB 25.8 MB/s eta 0:00:01\n",
      "   -------------------------------------- - 7.4/7.6 MB 31.7 MB/s eta 0:00:01\n",
      "   ---------------------------------------  7.6/7.6 MB 28.8 MB/s eta 0:00:01\n",
      "   ---------------------------------------- 7.6/7.6 MB 25.8 MB/s eta 0:00:00\n",
      "Downloading contourpy-1.2.0-cp310-cp310-win_amd64.whl (186 kB)\n",
      "   ---------------------------------------- 0.0/186.7 kB ? eta -:--:--\n",
      "   ---------------------------------------- 186.7/186.7 kB ? eta 0:00:00\n",
      "Downloading cycler-0.12.1-py3-none-any.whl (8.3 kB)\n",
      "Downloading fonttools-4.44.0-cp310-cp310-win_amd64.whl (2.1 MB)\n",
      "   ---------------------------------------- 0.0/2.1 MB ? eta -:--:--\n",
      "   ---------------- ----------------------- 0.9/2.1 MB 28.1 MB/s eta 0:00:01\n",
      "   ---------------------------------------  2.1/2.1 MB 22.5 MB/s eta 0:00:01\n",
      "   ---------------------------------------- 2.1/2.1 MB 22.7 MB/s eta 0:00:00\n",
      "Downloading kiwisolver-1.4.5-cp310-cp310-win_amd64.whl (56 kB)\n",
      "   ---------------------------------------- 0.0/56.1 kB ? eta -:--:--\n",
      "   ---------------------------------------- 56.1/56.1 kB ? eta 0:00:00\n",
      "Downloading Pillow-10.1.0-cp310-cp310-win_amd64.whl (2.6 MB)\n",
      "   ---------------------------------------- 0.0/2.6 MB ? eta -:--:--\n",
      "   ------------ --------------------------- 0.8/2.6 MB 25.8 MB/s eta 0:00:01\n",
      "   ----------------------- ---------------- 1.5/2.6 MB 19.7 MB/s eta 0:00:01\n",
      "   -------------------------------- ------- 2.1/2.6 MB 17.0 MB/s eta 0:00:01\n",
      "   -------------------------------------- - 2.5/2.6 MB 14.5 MB/s eta 0:00:01\n",
      "   ---------------------------------------  2.6/2.6 MB 11.8 MB/s eta 0:00:01\n",
      "   ---------------------------------------- 2.6/2.6 MB 11.1 MB/s eta 0:00:00\n",
      "Downloading pyparsing-3.1.1-py3-none-any.whl (103 kB)\n",
      "   ---------------------------------------- 0.0/103.1 kB ? eta -:--:--\n",
      "   ---------------------------------------- 103.1/103.1 kB 6.2 MB/s eta 0:00:00\n",
      "Installing collected packages: pyparsing, pillow, kiwisolver, fonttools, cycler, contourpy, matplotlib\n",
      "Successfully installed contourpy-1.2.0 cycler-0.12.1 fonttools-4.44.0 kiwisolver-1.4.5 matplotlib-3.8.1 pillow-10.1.0 pyparsing-3.1.1\n"
     ]
    },
    {
     "name": "stderr",
     "output_type": "stream",
     "text": [
      "WARNING: Ignoring invalid distribution - (c:\\python310\\lib\\site-packages)\n",
      "WARNING: Ignoring invalid distribution -p (c:\\python310\\lib\\site-packages)\n",
      "WARNING: Ignoring invalid distribution -p (c:\\python310\\lib\\site-packages)\n",
      "WARNING: Ignoring invalid distribution -ip (c:\\python310\\lib\\site-packages)\n",
      "WARNING: Ignoring invalid distribution - (c:\\python310\\lib\\site-packages)\n",
      "WARNING: Ignoring invalid distribution -p (c:\\python310\\lib\\site-packages)\n",
      "WARNING: Ignoring invalid distribution -p (c:\\python310\\lib\\site-packages)\n",
      "WARNING: Ignoring invalid distribution -ip (c:\\python310\\lib\\site-packages)\n"
     ]
    }
   ],
   "source": [
    "!pip install matplotlib"
   ]
  },
  {
   "cell_type": "code",
   "execution_count": 1,
   "id": "1d8b24cf",
   "metadata": {},
   "outputs": [
    {
     "name": "stdout",
     "output_type": "stream",
     "text": [
      "E[x] teorico: 1, E[x] Experimental: 1.0483416979248321\n",
      "E^2[x] : 4, E^2[x] Experimental: 4.085849470674344\n"
     ]
    }
   ],
   "source": [
    "import numpy as np\n",
    "\n",
    "\n",
    "### Distribución Normal\n",
    "\n",
    "miu_norm = 1\n",
    "sigma_norm = 2\n",
    "\n",
    "\n",
    "dist_normal = np.random.normal(miu_norm, sigma_norm, 1000)\n",
    "\n",
    "miu_norm_experimental = sum(dist_normal)/ len(dist_normal)\n",
    "print(\"E[x] teorico: {0}, E[x] Experimental: {1}\".format(miu_norm, miu_norm_experimental))\n",
    "\n",
    "sigma_norm_experimental = sum([(i-miu_norm_experimental)**2  for i in dist_normal])/(len(dist_normal))\n",
    "print(\"E^2[x] : {0}, E^2[x] Experimental: {1}\".format(sigma_norm**2, sigma_norm_experimental))\n"
   ]
  },
  {
   "cell_type": "code",
   "execution_count": 2,
   "id": "50b35c6f",
   "metadata": {},
   "outputs": [
    {
     "name": "stdout",
     "output_type": "stream",
     "text": [
      "E[x] teorico: 0.5, E[x] Experimental: 0.521\n",
      "E^2[x] teorico ^2 : 0.25, E^2[x] Experimental: 0.2495590000000035\n"
     ]
    }
   ],
   "source": [
    "\n",
    "### Distribución Binomial\n",
    "\n",
    "n = 1\n",
    "p = 0.5\n",
    "\n",
    "dist_binomial = np.random.binomial(n, p, 1000)\n",
    "\n",
    "mean_biomial_experimental = sum(dist_binomial)/ len(dist_binomial)\n",
    "print(\"E[x] teorico: {0}, E[x] Experimental: {1}\".format(n*p, mean_biomial_experimental))\n",
    "\n",
    "var_binomial_experimental = sum([ (i-mean_biomial_experimental)**2  for i in dist_binomial])/(len(dist_binomial))\n",
    "print(\"E^2[x] teorico ^2 : {0}, E^2[x] Experimental: {1}\".format(p*n*(1-p), var_binomial_experimental))\n"
   ]
  },
  {
   "cell_type": "code",
   "execution_count": 3,
   "id": "f8d72567",
   "metadata": {},
   "outputs": [
    {
     "name": "stdout",
     "output_type": "stream",
     "text": [
      "E[x] teorico: 5, E[x] Experimental: 4.939\n",
      "E^2[x] teorico ^2 : 5, E^2[x] Experimental: 5.043279000000024\n"
     ]
    }
   ],
   "source": [
    "### Distribución Poisson \n",
    "\n",
    "lambda_poisson = 5\n",
    "\n",
    "dist_poisson = np.random.poisson(lambda_poisson, 1000)\n",
    "\n",
    "mean_poisson_experimental = sum(dist_poisson)/ len(dist_poisson)\n",
    "print(\"E[x] teorico: {0}, E[x] Experimental: {1}\".format(lambda_poisson, mean_poisson_experimental))\n",
    "\n",
    "var_poisson_experimental = sum([ (i-mean_poisson_experimental)**2  for i in dist_poisson])/(len(dist_poisson))\n",
    "print(\"E^2[x] teorico ^2 : {0}, E^2[x] Experimental: {1}\".format(lambda_poisson, var_poisson_experimental))\n",
    "\n"
   ]
  },
  {
   "cell_type": "code",
   "execution_count": 4,
   "id": "42290503",
   "metadata": {},
   "outputs": [
    {
     "name": "stdout",
     "output_type": "stream",
     "text": [
      "E[x] teorico: 6.0, E[x] Experimental: 6.012532677039124\n",
      "E^2[x] teorico ^2 : 8.333333333333334, E^2[x] Experimental: 8.433091896998384\n"
     ]
    }
   ],
   "source": [
    "### Distribución uniforme\n",
    "\n",
    "a = 1\n",
    "b = 11\n",
    "\n",
    "dist_uniforme = np.random.uniform(a,b, 1000)\n",
    "mean_uniforme_experimental = sum(dist_uniforme) / len(dist_uniforme)\n",
    "print(\"E[x] teorico: {0}, E[x] Experimental: {1}\".format((a+b)/2, mean_uniforme_experimental))\n",
    "\n",
    "var_uniforme_experimental = sum([(i-mean_uniforme_experimental) **2 for i in (dist_uniforme)]) / len(dist_uniforme)\n",
    "print(\"E^2[x] teorico ^2 : {0}, E^2[x] Experimental: {1}\".format(((b-a)**2)/12, var_uniforme_experimental))\n",
    "\n",
    "\n"
   ]
  },
  {
   "cell_type": "code",
   "execution_count": 5,
   "id": "cfe3b7f4",
   "metadata": {},
   "outputs": [
    {
     "name": "stdout",
     "output_type": "stream",
     "text": [
      "E[x] teorico: 2.0, E[x] Experimental: 2.0118010694355446\n",
      "E^2[x] teorico ^2 : 4.0, E^2[x] Experimental: 4.137943453588138\n"
     ]
    }
   ],
   "source": [
    "### Distribución Exponencial\n",
    "\n",
    "lambda_exponencial = 0.5\n",
    "dist_exponencial = np.random.exponential(1/lambda_exponencial, 1000)\n",
    "\n",
    "mean_exponencial_experimental = sum(dist_exponencial) / len(dist_exponencial)\n",
    "print(\"E[x] teorico: {0}, E[x] Experimental: {1}\".format(1/lambda_exponencial, mean_exponencial_experimental))\n",
    "\n",
    "var_exponencial_experimental = sum([(i-mean_exponencial_experimental) **2 for i in (dist_exponencial)]) / len(dist_exponencial)\n",
    "print(\"E^2[x] teorico ^2 : {0}, E^2[x] Experimental: {1}\".format(1/(lambda_exponencial**2), var_exponencial_experimental))\n",
    "\n",
    "\n"
   ]
  },
  {
   "cell_type": "markdown",
   "id": "904cea81-de62-42f9-adaf-9e3cc0d30ca0",
   "metadata": {},
   "source": [
    "# Punto 8"
   ]
  },
  {
   "cell_type": "code",
   "execution_count": 43,
   "id": "d4a1fc54",
   "metadata": {},
   "outputs": [
    {
     "name": "stdout",
     "output_type": "stream",
     "text": [
      "probabilidad después del lanzamiento 2 =  0.5\n",
      "probabilidad después del lanzamiento 6 =  0.16666666666666666\n",
      "probabilidad después del lanzamiento 10 =  0.1\n",
      "probabilidad después del lanzamiento 100 =  0.21\n",
      "probabilidad después del lanzamiento 1000 =  0.17\n",
      "probabilidad real 0.16666666666666666\n"
     ]
    },
    {
     "data": {
      "text/plain": [
       "Text(0.5, 1.0, 'Evolución de la proporción de cincos en función del número de lanzamientos')"
      ]
     },
     "execution_count": 43,
     "metadata": {},
     "output_type": "execute_result"
    },
    {
     "data": {
      "image/png": "[encoded data removed]",
      "text/plain": [
       "<Figure size 640x480 with 1 Axes>"
      ]
     },
     "metadata": {},
     "output_type": "display_data"
    }
   ],
   "source": [
    "import matplotlib.pyplot as plt\n",
    "\n",
    "n_lanzamientos = 1000\n",
    "n_cincos = 0\n",
    "proporcion = []\n",
    "for i in range(1,n_lanzamientos+1):\n",
    "    lanzamiento = int(np.random.uniform(1,7, 1)[0])\n",
    "    if lanzamiento == 5:\n",
    "        n_cincos += 1 \n",
    "    proporcion.append(n_cincos/i)\n",
    "\n",
    "print(\"probabilidad después del lanzamiento 2 = \", proporcion[1])\n",
    "print(\"probabilidad después del lanzamiento 6 = \", proporcion[5])\n",
    "print(\"probabilidad después del lanzamiento 10 = \", proporcion[9])\n",
    "print(\"probabilidad después del lanzamiento 100 = \", proporcion[99])\n",
    "print(\"probabilidad después del lanzamiento 1000 = \", proporcion[999])\n",
    "\n",
    "print(\"probabilidad real\", 1/6)\n",
    "\n",
    "plt.plot([i for i in range(n_lanzamientos)], proporcion)\n",
    "plt.axvline(x= 6, color='r', linestyle='--', label='prob='+str(proporcion[5]))\n",
    "plt.axvline(x= 100, color='g', linestyle='--', label='prob='+str(proporcion[5]))\n",
    "plt.xlabel(\"Número de lanzamientos\")\n",
    "plt.ylabel(\"Proporción de cincos\")\n",
    "plt.title(\"Evolución de la proporción de cincos en función del número de lanzamientos\")"
   ]
  },
  {
   "cell_type": "code",
   "execution_count": null,
   "id": "e6a7c752-f6d1-41fa-8571-869c0c11ccdf",
   "metadata": {},
   "outputs": [],
   "source": []
  }
 ],
 "metadata": {
  "kernelspec": {
   "display_name": "Python 3 (ipykernel)",
   "language": "python",
   "name": "python3"
  },
  "language_info": {
   "codemirror_mode": {
    "name": "ipython",
    "version": 3
   },
   "file_extension": ".py",
   "mimetype": "text/x-python",
   "name": "python",
   "nbconvert_exporter": "python",
   "pygments_lexer": "ipython3",
   "version": "3.10.1"
  }
 },
 "nbformat": 4,
 "nbformat_minor": 5
}
