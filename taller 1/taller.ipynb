{
 "cells": [
  {
   "cell_type": "markdown",
   "id": "cfd0070c",
   "metadata": {},
   "source": [
    "## Punto 7"
   ]
  },
  {
   "cell_type": "code",
   "execution_count": 14,
   "id": "1d8b24cf",
   "metadata": {},
   "outputs": [
    {
     "name": "stdout",
     "output_type": "stream",
     "text": [
      "E[x] teorico: 1, E[x] Experimental: 0.8179548675041408\n",
      "E^2[x] : 4, E^2[x] Experimental: 3.971451464258586\n"
     ]
    }
   ],
   "source": [
    "import numpy as np\n",
    "\n",
    "\n",
    "### Distribución Normal\n",
    "\n",
    "miu_norm = 1\n",
    "sigma_norm = 2\n",
    "\n",
    "\n",
    "dist_normal = np.random.normal(miu_norm, sigma_norm, 1000)\n",
    "\n",
    "miu_norm_experimental = sum(dist_normal)/ len(dist_normal)\n",
    "print(\"E[x] teorico: {0}, E[x] Experimental: {1}\".format(miu_norm, miu_norm_experimental))\n",
    "\n",
    "sigma_norm_experimental = sum([(i-miu_norm_experimental)**2  for i in dist_normal])/(len(dist_normal))\n",
    "print(\"E^2[x] : {0}, E^2[x] Experimental: {1}\".format(sigma_norm**2, sigma_norm_experimental))\n"
   ]
  },
  {
   "cell_type": "code",
   "execution_count": 11,
   "id": "50b35c6f",
   "metadata": {},
   "outputs": [
    {
     "name": "stdout",
     "output_type": "stream",
     "text": [
      "E[x] teorico: 0.5, E[x] Experimental: 0.51\n",
      "E^2[x] teorico ^2 : 0.25, E^2[x] Experimental: 0.2499490000000051\n"
     ]
    }
   ],
   "source": [
    "\n",
    "### Distribución Binomial\n",
    "\n",
    "n = 1\n",
    "p = 0.5\n",
    "\n",
    "dist_binomial = np.random.binomial(n, p, 1000)\n",
    "\n",
    "mean_biomial_experimental = sum(dist_binomial)/ len(dist_binomial)\n",
    "print(\"E[x] teorico: {0}, E[x] Experimental: {1}\".format(n*p, mean_biomial_experimental))\n",
    "\n",
    "var_binomial_experimental = sum([ (i-mean_biomial_experimental)**2  for i in dist_binomial])/(len(dist_binomial))\n",
    "print(\"E^2[x] teorico ^2 : {0}, E^2[x] Experimental: {1}\".format(p*n*(1-p), var_binomial_experimental))\n"
   ]
  },
  {
   "cell_type": "code",
   "execution_count": 17,
   "id": "f8d72567",
   "metadata": {},
   "outputs": [
    {
     "name": "stdout",
     "output_type": "stream",
     "text": [
      "E[x] teorico: 5, E[x] Experimental: 5.065\n",
      "E^2[x] teorico ^2 : 5, E^2[x] Experimental: 5.058774999999969\n"
     ]
    }
   ],
   "source": [
    "### Distribución Poisson \n",
    "\n",
    "lambda_poisson = 5\n",
    "\n",
    "dist_poisson = np.random.poisson(lambda_poisson, 1000)\n",
    "\n",
    "mean_poisson_experimental = sum(dist_poisson)/ len(dist_poisson)\n",
    "print(\"E[x] teorico: {0}, E[x] Experimental: {1}\".format(lambda_poisson, mean_poisson_experimental))\n",
    "\n",
    "var_poisson_experimental = sum([ (i-mean_poisson_experimental)**2  for i in dist_poisson])/(len(dist_poisson))\n",
    "print(\"E^2[x] teorico ^2 : {0}, E^2[x] Experimental: {1}\".format(lambda_poisson, var_poisson_experimental))\n",
    "\n"
   ]
  },
  {
   "cell_type": "code",
   "execution_count": 27,
   "id": "42290503",
   "metadata": {},
   "outputs": [
    {
     "name": "stdout",
     "output_type": "stream",
     "text": [
      "E[x] teorico: 6.0, E[x] Experimental: 6.0916366041863865\n",
      "E^2[x] teorico ^2 : 8.333333333333334, E^2[x] Experimental: 8.366064914627662\n"
     ]
    }
   ],
   "source": [
    "### Distribución uniforme\n",
    "\n",
    "a = 1\n",
    "b = 11\n",
    "\n",
    "dist_uniforme = np.random.uniform(a,b, 1000)\n",
    "mean_uniforme_experimental = sum(dist_uniforme) / len(dist_uniforme)\n",
    "print(\"E[x] teorico: {0}, E[x] Experimental: {1}\".format((a+b)/2, mean_uniforme_experimental))\n",
    "\n",
    "var_uniforme_experimental = sum([(i-mean_uniforme_experimental) **2 for i in (dist_uniforme)]) / len(dist_uniforme)\n",
    "print(\"E^2[x] teorico ^2 : {0}, E^2[x] Experimental: {1}\".format(((b-a)**2)/12, var_uniforme_experimental))\n",
    "\n",
    "\n"
   ]
  },
  {
   "cell_type": "code",
   "execution_count": 34,
   "id": "cfe3b7f4",
   "metadata": {},
   "outputs": [
    {
     "name": "stdout",
     "output_type": "stream",
     "text": [
      "E[x] teorico: 2.0, E[x] Experimental: 2.0201935264092894\n",
      "E^2[x] teorico ^2 : 4.0, E^2[x] Experimental: 4.232960801315922\n"
     ]
    }
   ],
   "source": [
    "### Distribución Exponencial\n",
    "\n",
    "lambda_exponencial = 0.5\n",
    "dist_exponencial = np.random.exponential(1/lambda_exponencial, 1000)\n",
    "\n",
    "mean_exponencial_experimental = sum(dist_exponencial) / len(dist_exponencial)\n",
    "print(\"E[x] teorico: {0}, E[x] Experimental: {1}\".format(1/lambda_exponencial, mean_exponencial_experimental))\n",
    "\n",
    "var_exponencial_experimental = sum([(i-mean_exponencial_experimental) **2 for i in (dist_exponencial)]) / len(dist_exponencial)\n",
    "print(\"E^2[x] teorico ^2 : {0}, E^2[x] Experimental: {1}\".format(1/(lambda_exponencial**2), var_exponencial_experimental))\n",
    "\n",
    "\n"
   ]
  },
  {
   "cell_type": "code",
   "execution_count": null,
   "id": "d4a74ffe",
   "metadata": {},
   "outputs": [],
   "source": []
  },
  {
   "cell_type": "code",
   "execution_count": null,
   "id": "d4a1fc54",
   "metadata": {},
   "outputs": [],
   "source": []
  }
 ],
 "metadata": {
  "kernelspec": {
   "display_name": "Python 3 (ipykernel)",
   "language": "python",
   "name": "python3"
  },
  "language_info": {
   "codemirror_mode": {
    "name": "ipython",
    "version": 3
   },
   "file_extension": ".py",
   "mimetype": "text/x-python",
   "name": "python",
   "nbconvert_exporter": "python",
   "pygments_lexer": "ipython3",
   "version": "3.11.6"
  }
 },
 "nbformat": 4,
 "nbformat_minor": 5
}
